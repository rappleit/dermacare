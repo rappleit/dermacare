{
 "cells": [
  {
   "cell_type": "markdown",
   "metadata": {},
   "source": [
    "# SETUP\n",
    "Before running anything:\n",
    "1. Get openAI API key and store as \"OPENAI_API_KEY\" in .env file (create in working directory)\n",
    "2. Get Kaggle API json file (should be called Kaggle Settings.json) and store in \".kaggle\" folder (create in working directory)\n",
    "\n",
    "Running code below will:\n",
    "1. Download 2gb Dermnet dataset\n",
    "2. Create a json file called \"diagnosis_mapping.json\" that contains each image path and diagnosis\n",
    "3. Create a persistent vectorDB called \" using chroma\n",
    "4. Store image and metadata embeddings in vectorDB\n"
   ]
  },
  {
   "cell_type": "markdown",
   "metadata": {},
   "source": [
    "#### Just run this first, dont need to edit anything"
   ]
  },
  {
   "cell_type": "code",
   "execution_count": null,
   "metadata": {},
   "outputs": [],
   "source": [
    "import os\n",
    "import json\n",
    "import re\n",
    "import kagglehub\n",
    "import chromadb\n",
    "from chromadb.utils.embedding_functions import OpenCLIPEmbeddingFunction\n",
    "from chromadb.utils.data_loaders import ImageLoader\n",
    "\n",
    "def extract_diagnosis(filename):\n",
    "    # Remove file extension and split into components\n",
    "    name = os.path.splitext(filename)[0]\n",
    "    \n",
    "    # Remove leading numbers and special characters\n",
    "    cleaned = re.sub(r'^[\\d_\\-]+', '', name)\n",
    "    \n",
    "    # Split on numbers, hyphens, and underscores, then capitalize each word\n",
    "    parts = re.split(r'[\\d_\\-]+', cleaned)\n",
    "    diagnosis = ' '.join(part.strip().capitalize() for part in parts if part.strip())\n",
    "    \n",
    "    return diagnosis\n",
    "\n",
    "def create_and_add_to_DB(DB_path, data_path):\n",
    "    multimodal_ef = OpenCLIPEmbeddingFunction() # multimodal embedding function\n",
    "    image_loader = ImageLoader() # multimodal data loader\n",
    "    # client = chromadb.Client() # non-persistent DB\n",
    "    client = chromadb.PersistentClient(path=DB_path) # create persistent DB\n",
    "\n",
    "    multimodalDB = client.get_or_create_collection(name=\"multimodalDB\", embedding_function= multimodal_ef, data_loader=image_loader) # multimodal collection\n",
    "    # import data and add to DB \n",
    "    with open(data_path, 'r') as f: #\n",
    "        data = json.load(f)\n",
    "\n",
    "    for i in data:\n",
    "        multimodalDB.add(\n",
    "            metadatas=[\n",
    "                {\"Diagnosis\": i['diagnosis'], \"Path\": i['path']}\n",
    "                ],\n",
    "            uris = [i['path']],\n",
    "            ids = [i['path']]\n",
    "        )\n",
    "    print(\"All images and data embedded into vectorDB \")\n",
    "    \n",
    "    return\n",
    "\n",
    "def download_and_generate_json():\n",
    "    root_dir = kagglehub.dataset_download(\"shubhamgoel27/dermnet\") # USE THIS IF FIRST TIME RUNNING\n",
    "    print(\"root_dir (change root_dir in commented code above for yourself):\", root_dir)\n",
    "    # root_dir = \"/Users/shinherng/.cache/kagglehub/datasets/shubhamgoel27/dermnet/versions/1/train\" # CHANGE TO YOUR OWN IF NOT FIRST TIME RUNNING\n",
    "    output_file = \"diagnosis_mapping.json\"\n",
    "    data = []\n",
    "\n",
    "    for root, dirs, files in os.walk(root_dir):\n",
    "        for file in files:\n",
    "            if file.lower().endswith(('.png', '.jpg', '.jpeg')):\n",
    "                full_path = os.path.join(root, file)\n",
    "                diagnosis = extract_diagnosis(file)\n",
    "                \n",
    "                data.append({\n",
    "                    \"path\": full_path,\n",
    "                    \"diagnosis\": diagnosis\n",
    "                })\n",
    "\n",
    "    with open(output_file, 'w') as f:\n",
    "        json.dump(data, f, indent=2)\n",
    "\n",
    "    return\n",
    "\n",
    "\n",
    "download_and_generate_json()"
   ]
  },
  {
   "cell_type": "markdown",
   "metadata": {},
   "source": [
    "### Edit code below and run"
   ]
  },
  {
   "cell_type": "code",
   "execution_count": null,
   "metadata": {},
   "outputs": [],
   "source": [
    "DB_path = \"dermnetVectorDB\" # edit if you want\n",
    "data_path = \"/Users/shinherng/Documents/GitHub/dermacare/diagnosis_mapping.json\" # EDIT THIS TO YOUR OWN PATH\n",
    "\n",
    "create_and_add_to_DB(DB_path, data_path)"
   ]
  },
  {
   "cell_type": "markdown",
   "metadata": {},
   "source": [
    "### To check if it works, run a vector search query, make edits accordingly"
   ]
  },
  {
   "cell_type": "code",
   "execution_count": null,
   "metadata": {},
   "outputs": [],
   "source": [
    "multimodal_ef = OpenCLIPEmbeddingFunction() # multimodal embedding function\n",
    "image_loader = ImageLoader() # multimodal data loader\n",
    "# client = chromadb.Client() # non-persistent DB\n",
    "client = chromadb.PersistentClient(path=DB_path) # edit to your own path\n",
    "\n",
    "multimodalDB = client.get_or_create_collection(name=\"multimodalDB\", embedding_function= multimodal_ef, data_loader=image_loader) # multimodal collection\n",
    "\n",
    "# Query/search n most similar items\n",
    "results = multimodalDB.query(\n",
    "    query_uris=[\"/Users/shinherng/Downloads/skinCond9.jpg\"], # edit to your own test image\n",
    "    n_results=3\n",
    ")\n",
    "\n",
    "results[\"metadatas\"][0][0][\"Diagnosis\"] # to access top 1 similar diagnosis"
   ]
  }
 ],
 "metadata": {
  "language_info": {
   "name": "python"
  }
 },
 "nbformat": 4,
 "nbformat_minor": 2
}
